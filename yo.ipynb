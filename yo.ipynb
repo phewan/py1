{
 "cells": [
  {
   "cell_type": "code",
   "execution_count": 9,
   "metadata": {},
   "outputs": [
    {
     "name": "stdout",
     "output_type": "stream",
     "text": [
      "<twitter.api.Twitter object at 0x7fb9e806ff40>\n"
     ]
    }
   ],
   "source": [
    "import twitter\n",
    "import os\n",
    "from dotenv import load_dotenv\n",
    "\n",
    "load_dotenv()\n",
    "\n",
    "OAUTH_TOKEN = os.environ.get(\"oauth-token\")\n",
    "OAUTH_TOKEN_SECRET = os.environ.get(\"oauth-token-secret\")\n",
    "CONSUMER_KEY = os.environ.get(\"consumer-key\")\n",
    "CONSUMER_SECRET = os.environ.get(\"consumer-secret\")\n",
    "auth = twitter.oauth.OAuth(OAUTH_TOKEN, OAUTH_TOKEN_SECRET,\n",
    "                           CONSUMER_KEY, CONSUMER_SECRET)\n",
    "\n",
    "twitter_api = twitter.Twitter(auth=auth)\n",
    "print(twitter_api)"
   ]
  }
 ],
 "metadata": {
  "interpreter": {
   "hash": "09b0cfc9d810f421f4e45130dfb6525cb9ace92c14f93b84fb5e3781b75cf222"
  },
  "kernelspec": {
   "display_name": "Python 3.10.2 64-bit ('3.10.2': pyenv)",
   "language": "python",
   "name": "python3"
  },
  "language_info": {
   "codemirror_mode": {
    "name": "ipython",
    "version": 3
   },
   "file_extension": ".py",
   "mimetype": "text/x-python",
   "name": "python",
   "nbconvert_exporter": "python",
   "pygments_lexer": "ipython3",
   "version": "3.10.2"
  },
  "orig_nbformat": 4
 },
 "nbformat": 4,
 "nbformat_minor": 2
}
